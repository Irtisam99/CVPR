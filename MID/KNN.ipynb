{
  "cells": [
    {
      "cell_type": "code",
      "execution_count": 2,
      "metadata": {
        "colab": {
          "base_uri": "https://localhost:8080/",
          "height": 55
        },
        "id": "CAdR-7D_4ku9",
        "outputId": "017a79c7-5caa-46af-baea-f188ec17e36c"
      },
      "outputs": [
        {
          "output_type": "display_data",
          "data": {
            "text/plain": [
              "<IPython.core.display.HTML object>"
            ],
            "text/html": [
              "\n",
              "     <input type=\"file\" id=\"files-f03a7e79-ad65-4228-8568-735575bf6817\" name=\"files[]\" multiple disabled\n",
              "        style=\"border:none\" />\n",
              "     <output id=\"result-f03a7e79-ad65-4228-8568-735575bf6817\">\n",
              "      Upload widget is only available when the cell has been executed in the\n",
              "      current browser session. Please rerun this cell to enable.\n",
              "      </output>\n",
              "      <script>// Copyright 2017 Google LLC\n",
              "//\n",
              "// Licensed under the Apache License, Version 2.0 (the \"License\");\n",
              "// you may not use this file except in compliance with the License.\n",
              "// You may obtain a copy of the License at\n",
              "//\n",
              "//      http://www.apache.org/licenses/LICENSE-2.0\n",
              "//\n",
              "// Unless required by applicable law or agreed to in writing, software\n",
              "// distributed under the License is distributed on an \"AS IS\" BASIS,\n",
              "// WITHOUT WARRANTIES OR CONDITIONS OF ANY KIND, either express or implied.\n",
              "// See the License for the specific language governing permissions and\n",
              "// limitations under the License.\n",
              "\n",
              "/**\n",
              " * @fileoverview Helpers for google.colab Python module.\n",
              " */\n",
              "(function(scope) {\n",
              "function span(text, styleAttributes = {}) {\n",
              "  const element = document.createElement('span');\n",
              "  element.textContent = text;\n",
              "  for (const key of Object.keys(styleAttributes)) {\n",
              "    element.style[key] = styleAttributes[key];\n",
              "  }\n",
              "  return element;\n",
              "}\n",
              "\n",
              "// Max number of bytes which will be uploaded at a time.\n",
              "const MAX_PAYLOAD_SIZE = 100 * 1024;\n",
              "\n",
              "function _uploadFiles(inputId, outputId) {\n",
              "  const steps = uploadFilesStep(inputId, outputId);\n",
              "  const outputElement = document.getElementById(outputId);\n",
              "  // Cache steps on the outputElement to make it available for the next call\n",
              "  // to uploadFilesContinue from Python.\n",
              "  outputElement.steps = steps;\n",
              "\n",
              "  return _uploadFilesContinue(outputId);\n",
              "}\n",
              "\n",
              "// This is roughly an async generator (not supported in the browser yet),\n",
              "// where there are multiple asynchronous steps and the Python side is going\n",
              "// to poll for completion of each step.\n",
              "// This uses a Promise to block the python side on completion of each step,\n",
              "// then passes the result of the previous step as the input to the next step.\n",
              "function _uploadFilesContinue(outputId) {\n",
              "  const outputElement = document.getElementById(outputId);\n",
              "  const steps = outputElement.steps;\n",
              "\n",
              "  const next = steps.next(outputElement.lastPromiseValue);\n",
              "  return Promise.resolve(next.value.promise).then((value) => {\n",
              "    // Cache the last promise value to make it available to the next\n",
              "    // step of the generator.\n",
              "    outputElement.lastPromiseValue = value;\n",
              "    return next.value.response;\n",
              "  });\n",
              "}\n",
              "\n",
              "/**\n",
              " * Generator function which is called between each async step of the upload\n",
              " * process.\n",
              " * @param {string} inputId Element ID of the input file picker element.\n",
              " * @param {string} outputId Element ID of the output display.\n",
              " * @return {!Iterable<!Object>} Iterable of next steps.\n",
              " */\n",
              "function* uploadFilesStep(inputId, outputId) {\n",
              "  const inputElement = document.getElementById(inputId);\n",
              "  inputElement.disabled = false;\n",
              "\n",
              "  const outputElement = document.getElementById(outputId);\n",
              "  outputElement.innerHTML = '';\n",
              "\n",
              "  const pickedPromise = new Promise((resolve) => {\n",
              "    inputElement.addEventListener('change', (e) => {\n",
              "      resolve(e.target.files);\n",
              "    });\n",
              "  });\n",
              "\n",
              "  const cancel = document.createElement('button');\n",
              "  inputElement.parentElement.appendChild(cancel);\n",
              "  cancel.textContent = 'Cancel upload';\n",
              "  const cancelPromise = new Promise((resolve) => {\n",
              "    cancel.onclick = () => {\n",
              "      resolve(null);\n",
              "    };\n",
              "  });\n",
              "\n",
              "  // Wait for the user to pick the files.\n",
              "  const files = yield {\n",
              "    promise: Promise.race([pickedPromise, cancelPromise]),\n",
              "    response: {\n",
              "      action: 'starting',\n",
              "    }\n",
              "  };\n",
              "\n",
              "  cancel.remove();\n",
              "\n",
              "  // Disable the input element since further picks are not allowed.\n",
              "  inputElement.disabled = true;\n",
              "\n",
              "  if (!files) {\n",
              "    return {\n",
              "      response: {\n",
              "        action: 'complete',\n",
              "      }\n",
              "    };\n",
              "  }\n",
              "\n",
              "  for (const file of files) {\n",
              "    const li = document.createElement('li');\n",
              "    li.append(span(file.name, {fontWeight: 'bold'}));\n",
              "    li.append(span(\n",
              "        `(${file.type || 'n/a'}) - ${file.size} bytes, ` +\n",
              "        `last modified: ${\n",
              "            file.lastModifiedDate ? file.lastModifiedDate.toLocaleDateString() :\n",
              "                                    'n/a'} - `));\n",
              "    const percent = span('0% done');\n",
              "    li.appendChild(percent);\n",
              "\n",
              "    outputElement.appendChild(li);\n",
              "\n",
              "    const fileDataPromise = new Promise((resolve) => {\n",
              "      const reader = new FileReader();\n",
              "      reader.onload = (e) => {\n",
              "        resolve(e.target.result);\n",
              "      };\n",
              "      reader.readAsArrayBuffer(file);\n",
              "    });\n",
              "    // Wait for the data to be ready.\n",
              "    let fileData = yield {\n",
              "      promise: fileDataPromise,\n",
              "      response: {\n",
              "        action: 'continue',\n",
              "      }\n",
              "    };\n",
              "\n",
              "    // Use a chunked sending to avoid message size limits. See b/62115660.\n",
              "    let position = 0;\n",
              "    do {\n",
              "      const length = Math.min(fileData.byteLength - position, MAX_PAYLOAD_SIZE);\n",
              "      const chunk = new Uint8Array(fileData, position, length);\n",
              "      position += length;\n",
              "\n",
              "      const base64 = btoa(String.fromCharCode.apply(null, chunk));\n",
              "      yield {\n",
              "        response: {\n",
              "          action: 'append',\n",
              "          file: file.name,\n",
              "          data: base64,\n",
              "        },\n",
              "      };\n",
              "\n",
              "      let percentDone = fileData.byteLength === 0 ?\n",
              "          100 :\n",
              "          Math.round((position / fileData.byteLength) * 100);\n",
              "      percent.textContent = `${percentDone}% done`;\n",
              "\n",
              "    } while (position < fileData.byteLength);\n",
              "  }\n",
              "\n",
              "  // All done.\n",
              "  yield {\n",
              "    response: {\n",
              "      action: 'complete',\n",
              "    }\n",
              "  };\n",
              "}\n",
              "\n",
              "scope.google = scope.google || {};\n",
              "scope.google.colab = scope.google.colab || {};\n",
              "scope.google.colab._files = {\n",
              "  _uploadFiles,\n",
              "  _uploadFilesContinue,\n",
              "};\n",
              "})(self);\n",
              "</script> "
            ]
          },
          "metadata": {}
        },
        {
          "output_type": "execute_result",
          "data": {
            "text/plain": [
              "{}"
            ]
          },
          "metadata": {},
          "execution_count": 2
        }
      ],
      "source": [
        "#FOR KAGGLE API DOWNLOADING(OWN JSON FILE)\n",
        "from google.colab import files\n",
        "files.upload()"
      ]
    },
    {
      "cell_type": "code",
      "execution_count": 3,
      "metadata": {
        "id": "kLFwCKWb477e"
      },
      "outputs": [],
      "source": [
        "#KAGGLE API HANDLE--\n",
        "!mkdir -p ~/.kaggle\n",
        "!cp kaggle.json ~/.kaggle/\n",
        "!chmod 600 ~/.kaggle/kaggle.json\n"
      ]
    },
    {
      "cell_type": "code",
      "execution_count": 4,
      "metadata": {
        "colab": {
          "base_uri": "https://localhost:8080/"
        },
        "id": "RBAkcgbD5EkK",
        "outputId": "cb03de12-eeaa-4e3c-c2dc-08a50d5730b1"
      },
      "outputs": [
        {
          "output_type": "stream",
          "name": "stdout",
          "text": [
            "Dataset URL: https://www.kaggle.com/datasets/ashishsaxena2209/animal-image-datasetdog-cat-and-panda\n",
            "License(s): unknown\n",
            "animal-image-datasetdog-cat-and-panda.zip: Skipping, found more recently modified local copy (use --force to force download)\n"
          ]
        }
      ],
      "source": [
        "#DATASET URL\n",
        "!kaggle datasets download -d ashishsaxena2209/animal-image-datasetdog-cat-and-panda\n"
      ]
    },
    {
      "cell_type": "code",
      "execution_count": 1,
      "metadata": {
        "id": "tHc1OsSq6vL0"
      },
      "outputs": [],
      "source": [
        "#  READ AND UNZIP THE ZIP FILE TO THE FOLDER \"animal_dataset\"\n",
        "import zipfile\n",
        "\n",
        "with zipfile.ZipFile(\"animal-image-datasetdog-cat-and-panda.zip\", 'r') as zip_ref:\n",
        "    zip_ref.extractall(\"animal_dataset\")\n"
      ]
    },
    {
      "cell_type": "code",
      "execution_count": 5,
      "metadata": {
        "colab": {
          "base_uri": "https://localhost:8080/"
        },
        "id": "7IOs0J1x8Jgz",
        "outputId": "5dfbd666-baab-43f6-ce76-6dc34ba56d8f"
      },
      "outputs": [
        {
          "output_type": "stream",
          "name": "stdout",
          "text": [
            "dogs: 1000 images\n",
            "panda: 1000 images\n",
            "cats: 1000 images\n"
          ]
        }
      ],
      "source": [
        "# CHECKING HOW MANY IMAGES ARE IN EACH FOLDER\n",
        "import os\n",
        "base_path = \"animal_dataset/animals/animals\"\n",
        "\n",
        "for folder in os.listdir(base_path):\n",
        "    folder_path = os.path.join(base_path, folder)\n",
        "    print(f\"{folder}: {len(os.listdir(folder_path))} images\")"
      ]
    },
    {
      "cell_type": "code",
      "execution_count": 7,
      "metadata": {
        "colab": {
          "base_uri": "https://localhost:8080/"
        },
        "id": "aAXdaxUD8bfq",
        "outputId": "b744a53d-eda4-417b-a526-1bea293d8858"
      },
      "outputs": [
        {
          "output_type": "stream",
          "name": "stdout",
          "text": [
            "animals  images\n"
          ]
        }
      ],
      "source": [
        "!ls animal_dataset"
      ]
    },
    {
      "cell_type": "code",
      "execution_count": 6,
      "metadata": {
        "colab": {
          "base_uri": "https://localhost:8080/"
        },
        "id": "Cy-pA-7LAMNe",
        "outputId": "570ad6b2-de42-4930-c84f-cbc03303f2f4"
      },
      "outputs": [
        {
          "output_type": "stream",
          "name": "stdout",
          "text": [
            "Deleting 900 images from dogs...\n",
            "Deleting 900 images from cats...\n",
            "Deleting 900 images from panda...\n",
            "Deletion complete. Now each folder contains only the first 100 images.\n"
          ]
        }
      ],
      "source": [
        "# KEEPING THE FIRST 100 IMAGES OF EACH FOLDER, REST ARE DELETED.\n",
        "import os\n",
        "\n",
        "base_path = \"animal_dataset/animals/animals\"\n",
        "folders = ['dogs', 'cats', 'panda']\n",
        "max_images = 100\n",
        "\n",
        "for folder in folders:\n",
        "    folder_path = os.path.join(base_path, folder)\n",
        "    images = sorted(os.listdir(folder_path))\n",
        "\n",
        "    images_to_delete = images[max_images:]\n",
        "\n",
        "    print(f\"Deleting {len(images_to_delete)} images from {folder}...\")\n",
        "    for img_name in images_to_delete:\n",
        "        img_path = os.path.join(folder_path, img_name)\n",
        "        try:\n",
        "            os.remove(img_path)\n",
        "        except Exception as e:\n",
        "            print(f\"Error deleting {img_path}: {e}\")\n",
        "\n",
        "print(\"Deletion complete. Now each folder contains only the first 100 images.\")\n"
      ]
    },
    {
      "cell_type": "code",
      "execution_count": 7,
      "metadata": {
        "colab": {
          "base_uri": "https://localhost:8080/"
        },
        "id": "8KRXzXX8AfBW",
        "outputId": "579e3953-8434-48af-bf16-bacc939466b8"
      },
      "outputs": [
        {
          "output_type": "stream",
          "name": "stdout",
          "text": [
            "dogs folder has 100 images\n",
            "cats folder has 100 images\n",
            "panda folder has 100 images\n"
          ]
        }
      ],
      "source": [
        "import os\n",
        "\n",
        "base_path = \"animal_dataset/animals/animals\"  # Your dataset path\n",
        "folders = ['dogs', 'cats', 'panda']\n",
        "\n",
        "for folder in folders:\n",
        "    folder_path = os.path.join(base_path, folder)\n",
        "    num_images = len(os.listdir(folder_path))\n",
        "    print(f\"{folder} folder has {num_images} images\")\n"
      ]
    },
    {
      "cell_type": "markdown",
      "metadata": {
        "id": "0T3kXLRYHsKm"
      },
      "source": [
        "START\n"
      ]
    },
    {
      "cell_type": "code",
      "execution_count": 8,
      "metadata": {
        "colab": {
          "base_uri": "https://localhost:8080/"
        },
        "id": "CsMtArHKA_6Z",
        "outputId": "8174c607-655f-4c33-a293-3bbd96ad0170"
      },
      "outputs": [
        {
          "output_type": "stream",
          "name": "stdout",
          "text": [
            "Data shape: (300, 12288)\n",
            "Labels shape: (300,)\n",
            "Labels: [0 1 2]\n"
          ]
        }
      ],
      "source": [
        "# PREPARING THE DATA-- RESIZING, FLATTENING TO CONVERT THE 3D IMAGE TO 1D VECTOR , LABELLING , CONVERTING TO NUMPY ARRAYS\n",
        "import os\n",
        "import cv2\n",
        "import numpy as np\n",
        "\n",
        "dataset_path = 'animal_dataset/animals/animals'\n",
        "classes = ['dogs', 'cats', 'panda']\n",
        "num_images = 100\n",
        "img_size = (64, 64)\n",
        "\n",
        "features = []\n",
        "labels = []\n",
        "\n",
        "for label_idx, class_name in enumerate(classes):\n",
        "    folder = os.path.join(dataset_path, class_name)\n",
        "    files = sorted(os.listdir(folder))[:num_images]\n",
        "\n",
        "    for file_name in files:\n",
        "        path = os.path.join(folder, file_name)\n",
        "        img = cv2.imread(path)\n",
        "        if img is None:\n",
        "            print(\"Failed to load:\", path)\n",
        "            continue\n",
        "\n",
        "\n",
        "        img_resized = cv2.resize(img, img_size)\n",
        "\n",
        "\n",
        "        img_flat = img_resized.flatten()\n",
        "\n",
        "        features.append(img_flat)\n",
        "        labels.append(label_idx)\n",
        "\n",
        "\n",
        "X = np.array(features)  # shape (300, 12288)\n",
        "y = np.array(labels)    # shape (300,)\n",
        "\n",
        "print(\"Data shape:\", X.shape)\n",
        "print(\"Labels shape:\", y.shape)\n",
        "print(\"Labels:\", np.unique(y))\n"
      ]
    },
    {
      "cell_type": "code",
      "execution_count": 9,
      "metadata": {
        "colab": {
          "base_uri": "https://localhost:8080/",
          "height": 1000
        },
        "id": "8hY39PHG1j39",
        "outputId": "d9342f8a-a567-453d-ce0e-2a8ec6c1bf84"
      },
      "outputs": [
        {
          "output_type": "stream",
          "name": "stdout",
          "text": [
            "Fold 1, k=1, Accuracy: 0.350\n",
            "Fold 1, k=3, Accuracy: 0.350\n",
            "Fold 1, k=5, Accuracy: 0.333\n",
            "Fold 1, k=7, Accuracy: 0.383\n",
            "Fold 1, k=9, Accuracy: 0.433\n",
            "Fold 1, k=11, Accuracy: 0.433\n",
            "Fold 1, k=13, Accuracy: 0.483\n",
            "Fold 1, k=15, Accuracy: 0.433\n",
            "Fold 1, k=17, Accuracy: 0.450\n",
            "Fold 1, k=19, Accuracy: 0.417\n",
            "Fold 2, k=1, Accuracy: 0.400\n",
            "Fold 2, k=3, Accuracy: 0.517\n",
            "Fold 2, k=5, Accuracy: 0.417\n",
            "Fold 2, k=7, Accuracy: 0.533\n",
            "Fold 2, k=9, Accuracy: 0.500\n",
            "Fold 2, k=11, Accuracy: 0.517\n",
            "Fold 2, k=13, Accuracy: 0.533\n",
            "Fold 2, k=15, Accuracy: 0.583\n",
            "Fold 2, k=17, Accuracy: 0.550\n",
            "Fold 2, k=19, Accuracy: 0.533\n",
            "Fold 3, k=1, Accuracy: 0.467\n",
            "Fold 3, k=3, Accuracy: 0.383\n",
            "Fold 3, k=5, Accuracy: 0.400\n",
            "Fold 3, k=7, Accuracy: 0.483\n",
            "Fold 3, k=9, Accuracy: 0.450\n",
            "Fold 3, k=11, Accuracy: 0.400\n",
            "Fold 3, k=13, Accuracy: 0.417\n",
            "Fold 3, k=15, Accuracy: 0.433\n",
            "Fold 3, k=17, Accuracy: 0.417\n",
            "Fold 3, k=19, Accuracy: 0.417\n",
            "Fold 4, k=1, Accuracy: 0.333\n",
            "Fold 4, k=3, Accuracy: 0.400\n",
            "Fold 4, k=5, Accuracy: 0.417\n",
            "Fold 4, k=7, Accuracy: 0.383\n",
            "Fold 4, k=9, Accuracy: 0.400\n",
            "Fold 4, k=11, Accuracy: 0.417\n",
            "Fold 4, k=13, Accuracy: 0.450\n",
            "Fold 4, k=15, Accuracy: 0.417\n",
            "Fold 4, k=17, Accuracy: 0.417\n",
            "Fold 4, k=19, Accuracy: 0.450\n",
            "Fold 5, k=1, Accuracy: 0.283\n",
            "Fold 5, k=3, Accuracy: 0.333\n",
            "Fold 5, k=5, Accuracy: 0.433\n",
            "Fold 5, k=7, Accuracy: 0.433\n",
            "Fold 5, k=9, Accuracy: 0.450\n",
            "Fold 5, k=11, Accuracy: 0.450\n",
            "Fold 5, k=13, Accuracy: 0.417\n",
            "Fold 5, k=15, Accuracy: 0.400\n",
            "Fold 5, k=17, Accuracy: 0.350\n",
            "Fold 5, k=19, Accuracy: 0.333\n",
            "k=1 -> Mean Accuracy: 0.367, Std: 0.062\n",
            "k=3 -> Mean Accuracy: 0.397, Std: 0.064\n",
            "k=5 -> Mean Accuracy: 0.400, Std: 0.035\n",
            "k=7 -> Mean Accuracy: 0.443, Std: 0.058\n",
            "k=9 -> Mean Accuracy: 0.447, Std: 0.032\n",
            "k=11 -> Mean Accuracy: 0.443, Std: 0.040\n",
            "k=13 -> Mean Accuracy: 0.460, Std: 0.044\n",
            "k=15 -> Mean Accuracy: 0.453, Std: 0.066\n",
            "k=17 -> Mean Accuracy: 0.437, Std: 0.065\n",
            "k=19 -> Mean Accuracy: 0.430, Std: 0.064\n"
          ]
        },
        {
          "output_type": "display_data",
          "data": {
            "text/plain": [
              "<Figure size 800x500 with 1 Axes>"
            ],
            "image/png": "[encoded data removed]"
          },
          "metadata": {}
        }
      ],
      "source": [
        "# (KNN,CROSS VALIDATION)\n",
        "\n",
        "import numpy as np\n",
        "from collections import Counter\n",
        "import matplotlib.pyplot as plt\n",
        "np.random.seed(42)  # RANDOM SO THAT EVERY TIME IT RUNS IT GIVES THE SAME VALUE\n",
        "\n",
        "# Euclidean distance between two feature vectors\n",
        "def euclidean_distance(a, b):\n",
        "    return np.sqrt(np.sum((a - b) ** 2))\n",
        "\n",
        "# KNN prediction for one test instance\n",
        "def knn_predict(X_train, y_train, x_test, k):\n",
        "    distances = []\n",
        "    for i in range(len(X_train)):\n",
        "        dist = euclidean_distance(X_train[i], x_test)\n",
        "        distances.append((dist, y_train[i]))\n",
        "    distances.sort(key=lambda x: x[0])\n",
        "    k_nearest_labels = [label for _, label in distances[:k]]\n",
        "    most_common = Counter(k_nearest_labels).most_common(1)\n",
        "    return most_common[0][0]\n",
        "\n",
        "# STRATIFIED K-FOLDS , SO EACH FOLD GETS EQUAL NUMBER OF DOGS, CATS AND PANDAS IMAGES\n",
        "def stratified_kfold(X, y, n_splits=5):\n",
        "    folds_X = [[] for _ in range(n_splits)]\n",
        "    folds_y = [[] for _ in range(n_splits)]\n",
        "\n",
        "    classes = np.unique(y)\n",
        "    for cls in classes:\n",
        "        cls_indices = np.where(y == cls)[0]\n",
        "        np.random.shuffle(cls_indices)\n",
        "        split_indices = np.array_split(cls_indices, n_splits)\n",
        "        for i in range(n_splits):\n",
        "            folds_X[i].extend(X[split_indices[i]])\n",
        "            folds_y[i].extend(y[split_indices[i]])\n",
        "\n",
        "    for i in range(n_splits):\n",
        "        folds_X[i] = np.array(folds_X[i])\n",
        "        folds_y[i] = np.array(folds_y[i])\n",
        "\n",
        "    return folds_X, folds_y\n",
        "\n",
        "# CROSS VALIDATION\n",
        "def cross_validate_knn(X, y, k_values, n_splits=5):\n",
        "    folds_X, folds_y = stratified_kfold(X, y, n_splits)\n",
        "    accuracies = {k: [] for k in k_values}\n",
        "\n",
        "    for i in range(n_splits):\n",
        "        X_test, y_test = folds_X[i], folds_y[i]\n",
        "        X_train = np.vstack([folds_X[j] for j in range(n_splits) if j != i])\n",
        "        y_train = np.hstack([folds_y[j] for j in range(n_splits) if j != i])\n",
        "\n",
        "        for k in k_values:\n",
        "            correct = 0\n",
        "            for idx in range(len(X_test)):\n",
        "                pred = knn_predict(X_train, y_train, X_test[idx], k)\n",
        "                if pred == y_test[idx]:\n",
        "                    correct += 1\n",
        "            accuracy = correct / len(X_test)\n",
        "            accuracies[k].append(accuracy)\n",
        "            print(f'Fold {i+1}, k={k}, Accuracy: {accuracy:.3f}')\n",
        "\n",
        "  # Printing  mean and std accuracies\n",
        "    for k in k_values:\n",
        "        mean_acc = np.mean(accuracies[k])\n",
        "        std_acc = np.std(accuracies[k])\n",
        "        print(f'k={k} -> Mean Accuracy: {mean_acc:.3f}, Std: {std_acc:.3f}')\n",
        "\n",
        "    return accuracies\n",
        "\n",
        "# Plotting function to show all folds, mean line, and error bars\n",
        "def plot_accuracies(k_values, accuracies):\n",
        "    mean_accuracies = [np.mean(accuracies[k]) for k in k_values]\n",
        "    std_accuracies = [np.std(accuracies[k]) for k in k_values]\n",
        "\n",
        "    plt.figure(figsize=(8, 5))\n",
        "\n",
        "    for k in k_values:\n",
        "        plt.scatter([k]*len(accuracies[k]), accuracies[k], alpha=0.5, label=f'Folds for k={k}')\n",
        "\n",
        "    # Plotting mean accuracy line with error bars\n",
        "    plt.errorbar(k_values, mean_accuracies, yerr=std_accuracies, fmt='-o', color='red', capsize=5, label='Mean ± Std')\n",
        "\n",
        "    plt.title(\"KNN Accuracy vs k\")\n",
        "    plt.xlabel(\"k (Number of Neighbors)\")\n",
        "    plt.ylabel(\"Accuracy\")\n",
        "    #plt.ylim(0, 1.05)\n",
        "    plt.xticks(k_values)\n",
        "    plt.grid(True)\n",
        "    plt.legend(fontsize='small', loc='best')\n",
        "    plt.tight_layout()\n",
        "    plt.show()\n",
        "\n",
        "k_values = [1, 3, 5, 7, 9, 11, 13, 15, 17, 19]\n",
        "\n",
        "accuracies = cross_validate_knn(X, y, k_values)\n",
        "plot_accuracies(k_values, accuracies)\n"
      ]
    }
  ],
  "metadata": {
    "colab": {
      "provenance": []
    },
    "kernelspec": {
      "display_name": "Python 3",
      "name": "python3"
    },
    "language_info": {
      "name": "python"
    }
  },
  "nbformat": 4,
  "nbformat_minor": 0
}