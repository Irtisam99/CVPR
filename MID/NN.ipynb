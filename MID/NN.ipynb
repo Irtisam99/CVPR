{
  "nbformat": 4,
  "nbformat_minor": 0,
  "metadata": {
    "colab": {
      "provenance": [],
      "gpuType": "T4",
      "authorship_tag": "ABX9TyNckmUIlFHAF0SOaUZ1uOi3",
      "include_colab_link": true
    },
    "kernelspec": {
      "name": "python3",
      "display_name": "Python 3"
    },
    "language_info": {
      "name": "python"
    },
    "accelerator": "GPU"
  },
  "cells": [
    {
      "cell_type": "markdown",
      "metadata": {
        "id": "view-in-github",
        "colab_type": "text"
      },
      "source": [
        "<a href=\"https://colab.research.google.com/github/Irtisam99/CVPR/blob/main/MID/NN.ipynb\" target=\"_parent\"><img src=\"https://colab.research.google.com/assets/colab-badge.svg\" alt=\"Open In Colab\"/></a>"
      ]
    },
    {
      "cell_type": "code",
      "execution_count": 21,
      "metadata": {
        "id": "kfp_Hl8zlYsG"
      },
      "outputs": [],
      "source": [
        "import numpy as np\n",
        "import matplotlib.pyplot as plt\n",
        "\n",
        "np.random.seed(0)\n",
        "\n",
        "X = np.array([ [0,0], [0,1], [1,0], [1,1] ])\n",
        "\n",
        "Y = np.array([\n",
        "    [1,0,0],  # class 0\n",
        "    [0,1,0],  # class 1\n",
        "    [0,0,1],  # class 2\n",
        "    [1,0,0]   # class 0\n",
        "])\n",
        "\n"
      ]
    },
    {
      "cell_type": "code",
      "source": [
        "class NeuralNetwork2Hidden:\n",
        "    def __init__(self):\n",
        "        inputLayerNeurons = 2\n",
        "        hiddenLayer1Neurons = 8\n",
        "        hiddenLayer2Neurons = 5\n",
        "        outLayerNeurons = 3\n",
        "\n",
        "        self.learning_rate = 0.2\n",
        "\n",
        "        self.W_IH1 = np.random.randn(inputLayerNeurons, hiddenLayer1Neurons)\n",
        "        self.W_H1H2 = np.random.randn(hiddenLayer1Neurons, hiddenLayer2Neurons)\n",
        "        self.W_H2O = np.random.randn(hiddenLayer2Neurons, outLayerNeurons)\n",
        "\n",
        "    def sigmoid(self, x, der=False):\n",
        "        if der:\n",
        "            return x * (1 - x)\n",
        "        else:\n",
        "            return 1 / (1 + np.exp(-x))\n",
        "\n",
        "    def feedForward(self, X):\n",
        "\n",
        "        self.hidden1_output = self.sigmoid(np.dot(X, self.W_IH1))\n",
        "        self.hidden2_output = self.sigmoid(np.dot(self.hidden1_output, self.W_H1H2))\n",
        "        self.output = self.sigmoid(np.dot(self.hidden2_output, self.W_H2O))\n",
        "\n",
        "        return self.output\n",
        "\n",
        "    def backPropagation(self, X, Y, pred):\n",
        "        output_error = Y - pred\n",
        "        output_delta = self.learning_rate * output_error * self.sigmoid(pred, der=True)\n",
        "\n",
        "        hidden2_error = output_delta.dot(self.W_H2O.T)\n",
        "        hidden2_delta = self.learning_rate * hidden2_error * self.sigmoid(self.hidden2_output, der=True)\n",
        "\n",
        "        hidden1_error = hidden2_delta.dot(self.W_H1H2.T)\n",
        "        hidden1_delta = self.learning_rate * hidden1_error * self.sigmoid(self.hidden1_output, der=True)\n",
        "\n",
        "        self.W_H2O += self.hidden2_output.T.dot(output_delta)\n",
        "        self.W_H1H2 += self.hidden1_output.T.dot(hidden2_delta)\n",
        "        self.W_IH1 += X.T.dot(hidden1_delta)\n",
        "\n",
        "    def train(self, X, Y):\n",
        "        pred = self.feedForward(X)\n",
        "        self.backPropagation(X, Y, pred)\n",
        "\n",
        "\n"
      ],
      "metadata": {
        "id": "G2fWfdVFrEKn"
      },
      "execution_count": 22,
      "outputs": []
    },
    {
      "cell_type": "code",
      "source": [
        "\n",
        "NN = NeuralNetwork2Hidden()\n",
        "\n",
        "\n",
        "err = []\n",
        "for i in range(10000):\n",
        "    NN.train(X, Y)\n",
        "    err.append(np.mean(np.square(Y - NN.feedForward(X))))\n",
        "\n",
        "\n",
        "plt.plot(err)\n",
        "plt.xlabel(\"Epochs\")\n",
        "plt.ylabel(\"Mean Squared Error\")\n",
        "plt.title(\"Error Graph\")\n",
        "plt.show()\n"
      ],
      "metadata": {
        "colab": {
          "base_uri": "https://localhost:8080/",
          "height": 472
        },
        "id": "C9EhQmBxrLuN",
        "outputId": "5c2f5b9f-4ec0-4bf1-e080-9181aaecd751"
      },
      "execution_count": 23,
      "outputs": [
        {
          "output_type": "display_data",
          "data": {
            "text/plain": [
              "<Figure size 640x480 with 1 Axes>"
            ],
            "image/png": "[encoded data removed]"
          },
          "metadata": {}
        }
      ]
    },
    {
      "cell_type": "code",
      "source": [
        "\n",
        "np.set_printoptions(precision=4, suppress=True)\n",
        "print(NN.feedForward([0,0]))\n",
        "print(NN.feedForward([0,1]))\n",
        "print(NN.feedForward([1,0]))\n",
        "print(NN.feedForward([1,1]))"
      ],
      "metadata": {
        "colab": {
          "base_uri": "https://localhost:8080/"
        },
        "id": "kzoIAKuyrP5U",
        "outputId": "0be21891-a9a7-420e-87d1-4f2e31bebebd"
      },
      "execution_count": 24,
      "outputs": [
        {
          "output_type": "stream",
          "name": "stdout",
          "text": [
            "[0.968  0.018  0.0164]\n",
            "[0.0447 0.9764 0.0001]\n",
            "[0.0515 0.0024 0.9676]\n",
            "[0.9447 0.0155 0.0276]\n"
          ]
        }
      ]
    }
  ]
}